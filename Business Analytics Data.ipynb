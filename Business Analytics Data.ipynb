{
 "cells": [
  {
   "cell_type": "code",
   "execution_count": 1,
   "id": "ceff4cc4",
   "metadata": {},
   "outputs": [],
   "source": [
    "import pandas as pd\n",
    "import numpy as np"
   ]
  },
  {
   "cell_type": "markdown",
   "id": "871c7ddc",
   "metadata": {},
   "source": [
    "# Level: 1\n",
    "\n",
    "# Task - 1: Data Overview\n",
    "\n",
    "Objective: Understand the dataset structure"
   ]
  },
  {
   "cell_type": "markdown",
   "id": "638ee2c5",
   "metadata": {},
   "source": [
    "## Load the Dataset:"
   ]
  },
  {
   "cell_type": "code",
   "execution_count": 2,
   "id": "20a5799d",
   "metadata": {},
   "outputs": [
    {
     "data": {
      "text/html": [
       "<div>\n",
       "<style scoped>\n",
       "    .dataframe tbody tr th:only-of-type {\n",
       "        vertical-align: middle;\n",
       "    }\n",
       "\n",
       "    .dataframe tbody tr th {\n",
       "        vertical-align: top;\n",
       "    }\n",
       "\n",
       "    .dataframe thead th {\n",
       "        text-align: right;\n",
       "    }\n",
       "</style>\n",
       "<table border=\"1\" class=\"dataframe\">\n",
       "  <thead>\n",
       "    <tr style=\"text-align: right;\">\n",
       "      <th></th>\n",
       "      <th>gender</th>\n",
       "      <th>age</th>\n",
       "      <th>Investment_Avenues</th>\n",
       "      <th>Mutual_Funds</th>\n",
       "      <th>Equity_Market</th>\n",
       "      <th>Debentures</th>\n",
       "      <th>Government_Bonds</th>\n",
       "      <th>Fixed_Deposits</th>\n",
       "      <th>PPF</th>\n",
       "      <th>Gold</th>\n",
       "      <th>...</th>\n",
       "      <th>Duration</th>\n",
       "      <th>Invest_Monitor</th>\n",
       "      <th>Expect</th>\n",
       "      <th>Avenue</th>\n",
       "      <th>What are your savings objectives?</th>\n",
       "      <th>Reason_Equity</th>\n",
       "      <th>Reason_Mutual</th>\n",
       "      <th>Reason_Bonds</th>\n",
       "      <th>Reason_FD</th>\n",
       "      <th>Source</th>\n",
       "    </tr>\n",
       "  </thead>\n",
       "  <tbody>\n",
       "    <tr>\n",
       "      <th>0</th>\n",
       "      <td>Female</td>\n",
       "      <td>34</td>\n",
       "      <td>Yes</td>\n",
       "      <td>1</td>\n",
       "      <td>2</td>\n",
       "      <td>5</td>\n",
       "      <td>3</td>\n",
       "      <td>7</td>\n",
       "      <td>6</td>\n",
       "      <td>4</td>\n",
       "      <td>...</td>\n",
       "      <td>1-3 years</td>\n",
       "      <td>Monthly</td>\n",
       "      <td>20%-30%</td>\n",
       "      <td>Mutual Fund</td>\n",
       "      <td>Retirement Plan</td>\n",
       "      <td>Capital Appreciation</td>\n",
       "      <td>Better Returns</td>\n",
       "      <td>Safe Investment</td>\n",
       "      <td>Fixed Returns</td>\n",
       "      <td>Newspapers and Magazines</td>\n",
       "    </tr>\n",
       "    <tr>\n",
       "      <th>1</th>\n",
       "      <td>Female</td>\n",
       "      <td>23</td>\n",
       "      <td>Yes</td>\n",
       "      <td>4</td>\n",
       "      <td>3</td>\n",
       "      <td>2</td>\n",
       "      <td>1</td>\n",
       "      <td>5</td>\n",
       "      <td>6</td>\n",
       "      <td>7</td>\n",
       "      <td>...</td>\n",
       "      <td>More than 5 years</td>\n",
       "      <td>Weekly</td>\n",
       "      <td>20%-30%</td>\n",
       "      <td>Mutual Fund</td>\n",
       "      <td>Health Care</td>\n",
       "      <td>Dividend</td>\n",
       "      <td>Better Returns</td>\n",
       "      <td>Safe Investment</td>\n",
       "      <td>High Interest Rates</td>\n",
       "      <td>Financial Consultants</td>\n",
       "    </tr>\n",
       "    <tr>\n",
       "      <th>2</th>\n",
       "      <td>Male</td>\n",
       "      <td>30</td>\n",
       "      <td>Yes</td>\n",
       "      <td>3</td>\n",
       "      <td>6</td>\n",
       "      <td>4</td>\n",
       "      <td>2</td>\n",
       "      <td>5</td>\n",
       "      <td>1</td>\n",
       "      <td>7</td>\n",
       "      <td>...</td>\n",
       "      <td>3-5 years</td>\n",
       "      <td>Daily</td>\n",
       "      <td>20%-30%</td>\n",
       "      <td>Equity</td>\n",
       "      <td>Retirement Plan</td>\n",
       "      <td>Capital Appreciation</td>\n",
       "      <td>Tax Benefits</td>\n",
       "      <td>Assured Returns</td>\n",
       "      <td>Fixed Returns</td>\n",
       "      <td>Television</td>\n",
       "    </tr>\n",
       "    <tr>\n",
       "      <th>3</th>\n",
       "      <td>Male</td>\n",
       "      <td>22</td>\n",
       "      <td>Yes</td>\n",
       "      <td>2</td>\n",
       "      <td>1</td>\n",
       "      <td>3</td>\n",
       "      <td>7</td>\n",
       "      <td>6</td>\n",
       "      <td>4</td>\n",
       "      <td>5</td>\n",
       "      <td>...</td>\n",
       "      <td>Less than 1 year</td>\n",
       "      <td>Daily</td>\n",
       "      <td>10%-20%</td>\n",
       "      <td>Equity</td>\n",
       "      <td>Retirement Plan</td>\n",
       "      <td>Dividend</td>\n",
       "      <td>Fund Diversification</td>\n",
       "      <td>Tax Incentives</td>\n",
       "      <td>High Interest Rates</td>\n",
       "      <td>Internet</td>\n",
       "    </tr>\n",
       "    <tr>\n",
       "      <th>4</th>\n",
       "      <td>Female</td>\n",
       "      <td>24</td>\n",
       "      <td>No</td>\n",
       "      <td>2</td>\n",
       "      <td>1</td>\n",
       "      <td>3</td>\n",
       "      <td>6</td>\n",
       "      <td>4</td>\n",
       "      <td>5</td>\n",
       "      <td>7</td>\n",
       "      <td>...</td>\n",
       "      <td>Less than 1 year</td>\n",
       "      <td>Daily</td>\n",
       "      <td>20%-30%</td>\n",
       "      <td>Equity</td>\n",
       "      <td>Retirement Plan</td>\n",
       "      <td>Capital Appreciation</td>\n",
       "      <td>Better Returns</td>\n",
       "      <td>Safe Investment</td>\n",
       "      <td>Risk Free</td>\n",
       "      <td>Internet</td>\n",
       "    </tr>\n",
       "  </tbody>\n",
       "</table>\n",
       "<p>5 rows × 24 columns</p>\n",
       "</div>"
      ],
      "text/plain": [
       "   gender  age Investment_Avenues  Mutual_Funds  Equity_Market  Debentures  \\\n",
       "0  Female   34                Yes             1              2           5   \n",
       "1  Female   23                Yes             4              3           2   \n",
       "2    Male   30                Yes             3              6           4   \n",
       "3    Male   22                Yes             2              1           3   \n",
       "4  Female   24                 No             2              1           3   \n",
       "\n",
       "   Government_Bonds  Fixed_Deposits  PPF  Gold  ...           Duration  \\\n",
       "0                 3               7    6     4  ...          1-3 years   \n",
       "1                 1               5    6     7  ...  More than 5 years   \n",
       "2                 2               5    1     7  ...          3-5 years   \n",
       "3                 7               6    4     5  ...   Less than 1 year   \n",
       "4                 6               4    5     7  ...   Less than 1 year   \n",
       "\n",
       "  Invest_Monitor   Expect       Avenue What are your savings objectives?  \\\n",
       "0        Monthly  20%-30%  Mutual Fund                   Retirement Plan   \n",
       "1         Weekly  20%-30%  Mutual Fund                       Health Care   \n",
       "2          Daily  20%-30%       Equity                   Retirement Plan   \n",
       "3          Daily  10%-20%       Equity                   Retirement Plan   \n",
       "4          Daily  20%-30%       Equity                   Retirement Plan   \n",
       "\n",
       "          Reason_Equity         Reason_Mutual     Reason_Bonds  \\\n",
       "0  Capital Appreciation        Better Returns  Safe Investment   \n",
       "1              Dividend        Better Returns  Safe Investment   \n",
       "2  Capital Appreciation          Tax Benefits  Assured Returns   \n",
       "3              Dividend  Fund Diversification   Tax Incentives   \n",
       "4  Capital Appreciation        Better Returns  Safe Investment   \n",
       "\n",
       "             Reason_FD                    Source  \n",
       "0        Fixed Returns  Newspapers and Magazines  \n",
       "1  High Interest Rates     Financial Consultants  \n",
       "2        Fixed Returns                Television  \n",
       "3  High Interest Rates                  Internet  \n",
       "4            Risk Free                  Internet  \n",
       "\n",
       "[5 rows x 24 columns]"
      ]
     },
     "execution_count": 2,
     "metadata": {},
     "output_type": "execute_result"
    }
   ],
   "source": [
    "df = pd.read_csv('Data_set2.csv')\n",
    "df.head()"
   ]
  },
  {
   "cell_type": "markdown",
   "id": "22b4c1f8",
   "metadata": {},
   "source": [
    "# Level: 1\n",
    "\n",
    "# Task - 2: Gender Distribution\n",
    "\n",
    "Objective: Visualize gender distribution in the dataset"
   ]
  },
  {
   "cell_type": "markdown",
   "id": "20acf604",
   "metadata": {},
   "source": [
    "Visualization of **gender** and **age** analysis have been completed in **Power BI**"
   ]
  },
  {
   "cell_type": "markdown",
   "id": "b5ddc469",
   "metadata": {},
   "source": [
    "# Level: 2\n",
    "\n",
    "# Task 3: Descriptive Statistics\n",
    "\n",
    "Objective: Present basic statistics for numerical columns."
   ]
  },
  {
   "cell_type": "markdown",
   "id": "6c853c84",
   "metadata": {},
   "source": [
    "### Data Description & Information : "
   ]
  },
  {
   "cell_type": "code",
   "execution_count": 3,
   "id": "9f7c0e17",
   "metadata": {},
   "outputs": [
    {
     "name": "stdout",
     "output_type": "stream",
     "text": [
      "<class 'pandas.core.frame.DataFrame'>\n",
      "RangeIndex: 40 entries, 0 to 39\n",
      "Data columns (total 24 columns):\n",
      " #   Column                             Non-Null Count  Dtype \n",
      "---  ------                             --------------  ----- \n",
      " 0   gender                             40 non-null     object\n",
      " 1   age                                40 non-null     int64 \n",
      " 2   Investment_Avenues                 40 non-null     object\n",
      " 3   Mutual_Funds                       40 non-null     int64 \n",
      " 4   Equity_Market                      40 non-null     int64 \n",
      " 5   Debentures                         40 non-null     int64 \n",
      " 6   Government_Bonds                   40 non-null     int64 \n",
      " 7   Fixed_Deposits                     40 non-null     int64 \n",
      " 8   PPF                                40 non-null     int64 \n",
      " 9   Gold                               40 non-null     int64 \n",
      " 10  Stock_Marktet                      40 non-null     object\n",
      " 11  Factor                             40 non-null     object\n",
      " 12  Objective                          40 non-null     object\n",
      " 13  Purpose                            40 non-null     object\n",
      " 14  Duration                           40 non-null     object\n",
      " 15  Invest_Monitor                     40 non-null     object\n",
      " 16  Expect                             40 non-null     object\n",
      " 17  Avenue                             40 non-null     object\n",
      " 18  What are your savings objectives?  40 non-null     object\n",
      " 19  Reason_Equity                      40 non-null     object\n",
      " 20  Reason_Mutual                      40 non-null     object\n",
      " 21  Reason_Bonds                       40 non-null     object\n",
      " 22  Reason_FD                          40 non-null     object\n",
      " 23  Source                             40 non-null     object\n",
      "dtypes: int64(8), object(16)\n",
      "memory usage: 7.6+ KB\n"
     ]
    }
   ],
   "source": [
    "df.info()"
   ]
  },
  {
   "cell_type": "markdown",
   "id": "1d48b8c2",
   "metadata": {},
   "source": [
    "**Conclusion:**  There are eight columns with an integer data type and 18 columns with an object data type."
   ]
  },
  {
   "cell_type": "code",
   "execution_count": 4,
   "id": "7624dc6a",
   "metadata": {
    "scrolled": true
   },
   "outputs": [
    {
     "data": {
      "text/html": [
       "<div>\n",
       "<style scoped>\n",
       "    .dataframe tbody tr th:only-of-type {\n",
       "        vertical-align: middle;\n",
       "    }\n",
       "\n",
       "    .dataframe tbody tr th {\n",
       "        vertical-align: top;\n",
       "    }\n",
       "\n",
       "    .dataframe thead th {\n",
       "        text-align: right;\n",
       "    }\n",
       "</style>\n",
       "<table border=\"1\" class=\"dataframe\">\n",
       "  <thead>\n",
       "    <tr style=\"text-align: right;\">\n",
       "      <th></th>\n",
       "      <th>age</th>\n",
       "      <th>Mutual_Funds</th>\n",
       "      <th>Equity_Market</th>\n",
       "      <th>Debentures</th>\n",
       "      <th>Government_Bonds</th>\n",
       "      <th>Fixed_Deposits</th>\n",
       "      <th>PPF</th>\n",
       "      <th>Gold</th>\n",
       "    </tr>\n",
       "  </thead>\n",
       "  <tbody>\n",
       "    <tr>\n",
       "      <th>count</th>\n",
       "      <td>40.000000</td>\n",
       "      <td>40.000000</td>\n",
       "      <td>40.000000</td>\n",
       "      <td>40.000000</td>\n",
       "      <td>40.000000</td>\n",
       "      <td>40.000000</td>\n",
       "      <td>40.000000</td>\n",
       "      <td>40.000000</td>\n",
       "    </tr>\n",
       "    <tr>\n",
       "      <th>mean</th>\n",
       "      <td>27.800000</td>\n",
       "      <td>2.550000</td>\n",
       "      <td>3.475000</td>\n",
       "      <td>5.750000</td>\n",
       "      <td>4.650000</td>\n",
       "      <td>3.575000</td>\n",
       "      <td>2.025000</td>\n",
       "      <td>5.975000</td>\n",
       "    </tr>\n",
       "    <tr>\n",
       "      <th>std</th>\n",
       "      <td>3.560467</td>\n",
       "      <td>1.197219</td>\n",
       "      <td>1.131994</td>\n",
       "      <td>1.675617</td>\n",
       "      <td>1.369072</td>\n",
       "      <td>1.795828</td>\n",
       "      <td>1.609069</td>\n",
       "      <td>1.143263</td>\n",
       "    </tr>\n",
       "    <tr>\n",
       "      <th>min</th>\n",
       "      <td>21.000000</td>\n",
       "      <td>1.000000</td>\n",
       "      <td>1.000000</td>\n",
       "      <td>1.000000</td>\n",
       "      <td>1.000000</td>\n",
       "      <td>1.000000</td>\n",
       "      <td>1.000000</td>\n",
       "      <td>2.000000</td>\n",
       "    </tr>\n",
       "    <tr>\n",
       "      <th>25%</th>\n",
       "      <td>25.750000</td>\n",
       "      <td>2.000000</td>\n",
       "      <td>3.000000</td>\n",
       "      <td>5.000000</td>\n",
       "      <td>4.000000</td>\n",
       "      <td>2.750000</td>\n",
       "      <td>1.000000</td>\n",
       "      <td>6.000000</td>\n",
       "    </tr>\n",
       "    <tr>\n",
       "      <th>50%</th>\n",
       "      <td>27.000000</td>\n",
       "      <td>2.000000</td>\n",
       "      <td>4.000000</td>\n",
       "      <td>6.500000</td>\n",
       "      <td>5.000000</td>\n",
       "      <td>3.500000</td>\n",
       "      <td>1.000000</td>\n",
       "      <td>6.000000</td>\n",
       "    </tr>\n",
       "    <tr>\n",
       "      <th>75%</th>\n",
       "      <td>30.000000</td>\n",
       "      <td>3.000000</td>\n",
       "      <td>4.000000</td>\n",
       "      <td>7.000000</td>\n",
       "      <td>5.000000</td>\n",
       "      <td>5.000000</td>\n",
       "      <td>2.250000</td>\n",
       "      <td>7.000000</td>\n",
       "    </tr>\n",
       "    <tr>\n",
       "      <th>max</th>\n",
       "      <td>35.000000</td>\n",
       "      <td>7.000000</td>\n",
       "      <td>6.000000</td>\n",
       "      <td>7.000000</td>\n",
       "      <td>7.000000</td>\n",
       "      <td>7.000000</td>\n",
       "      <td>6.000000</td>\n",
       "      <td>7.000000</td>\n",
       "    </tr>\n",
       "  </tbody>\n",
       "</table>\n",
       "</div>"
      ],
      "text/plain": [
       "             age  Mutual_Funds  Equity_Market  Debentures  Government_Bonds  \\\n",
       "count  40.000000     40.000000      40.000000   40.000000         40.000000   \n",
       "mean   27.800000      2.550000       3.475000    5.750000          4.650000   \n",
       "std     3.560467      1.197219       1.131994    1.675617          1.369072   \n",
       "min    21.000000      1.000000       1.000000    1.000000          1.000000   \n",
       "25%    25.750000      2.000000       3.000000    5.000000          4.000000   \n",
       "50%    27.000000      2.000000       4.000000    6.500000          5.000000   \n",
       "75%    30.000000      3.000000       4.000000    7.000000          5.000000   \n",
       "max    35.000000      7.000000       6.000000    7.000000          7.000000   \n",
       "\n",
       "       Fixed_Deposits        PPF       Gold  \n",
       "count       40.000000  40.000000  40.000000  \n",
       "mean         3.575000   2.025000   5.975000  \n",
       "std          1.795828   1.609069   1.143263  \n",
       "min          1.000000   1.000000   2.000000  \n",
       "25%          2.750000   1.000000   6.000000  \n",
       "50%          3.500000   1.000000   6.000000  \n",
       "75%          5.000000   2.250000   7.000000  \n",
       "max          7.000000   6.000000   7.000000  "
      ]
     },
     "execution_count": 4,
     "metadata": {},
     "output_type": "execute_result"
    }
   ],
   "source": [
    "df.describe()"
   ]
  },
  {
   "cell_type": "markdown",
   "id": "30612946",
   "metadata": {},
   "source": [
    "**Conclusion:**\n",
    "\n",
    "**1. Popular Investments:** **Gold** and **denbentures** are the most favoured, with highest average investments.\n",
    "\n",
    "**2. Moderate Investments:** **Government bonds**, **fixed deposits**, and the **equity market** see moderate investment levels.\n",
    "\n",
    "**3. Lowest Investments:** **Mutual funds** and **PPF** have the lowest average investments.\n",
    "\n",
    "**4. Age:** Most individuals are young, around **28 years** old, with diverse investment choices.Minimum to maximum age range is between 21-35."
   ]
  },
  {
   "cell_type": "markdown",
   "id": "41266f70",
   "metadata": {},
   "source": [
    "# Level: 2\n",
    "\n",
    "# Task 4: Most Preferred Investment Avenue\n",
    "\n",
    "Objective: Identify the most preferred investment avenue"
   ]
  },
  {
   "cell_type": "markdown",
   "id": "408e23a6",
   "metadata": {},
   "source": [
    "Visualization of **avenue** and **Investment aveneue** analysis have been completed in **Power BI**"
   ]
  },
  {
   "cell_type": "markdown",
   "id": "5bd6b334",
   "metadata": {},
   "source": [
    "### Frequency Analysis :"
   ]
  },
  {
   "cell_type": "code",
   "execution_count": 5,
   "id": "01fd65bc",
   "metadata": {},
   "outputs": [
    {
     "data": {
      "text/plain": [
       "Mutual Fund              18\n",
       "Equity                   10\n",
       "Fixed Deposits            9\n",
       "Public Provident Fund     3\n",
       "Name: Avenue, dtype: int64"
      ]
     },
     "execution_count": 5,
     "metadata": {},
     "output_type": "execute_result"
    }
   ],
   "source": [
    "max_invest_count = df['Avenue'].value_counts()\n",
    "max_invest_count"
   ]
  },
  {
   "cell_type": "code",
   "execution_count": 6,
   "id": "80204872",
   "metadata": {},
   "outputs": [
    {
     "name": "stdout",
     "output_type": "stream",
     "text": [
      "The most preferred investment avenue is Mutual Fund with 18 selections.\n"
     ]
    }
   ],
   "source": [
    "#The most frequently selected investment avenue\n",
    "most_preferred_avenue = max_invest_count.idxmax()\n",
    "max_count = max_invest_count.max()\n",
    "\n",
    "print(f\"The most preferred investment avenue is {most_preferred_avenue} with {max_count} selections.\")"
   ]
  },
  {
   "cell_type": "markdown",
   "id": "b2655852",
   "metadata": {},
   "source": [
    "# Level: 3\n",
    "\n",
    "# Task - 5: Reasons for Investment\n",
    "\n",
    "Objective: Analyze and summarize reasons for investment choices"
   ]
  },
  {
   "cell_type": "markdown",
   "id": "090b64eb",
   "metadata": {},
   "source": [
    "Visualization of **reasons for investment** analysis have been completed in **Power BI**"
   ]
  },
  {
   "cell_type": "code",
   "execution_count": 7,
   "id": "a89e2253",
   "metadata": {},
   "outputs": [
    {
     "name": "stdout",
     "output_type": "stream",
     "text": [
      "Capital Appreciation    30\n",
      "Assured Returns         26\n",
      "Better Returns          24\n",
      "Risk Free               19\n",
      "Fixed Returns           18\n",
      "Fund Diversification    13\n",
      "Safe Investment         13\n",
      "Dividend                 8\n",
      "Tax Benefits             3\n",
      "High Interest Rates      3\n",
      "Liquidity                2\n",
      "Tax Incentives           1\n",
      "dtype: int64\n"
     ]
    }
   ],
   "source": [
    "reason_columns = ['Reason_Equity', 'Reason_Mutual', 'Reason_Bonds', 'Reason_FD']\n",
    "\n",
    "all_reasons = pd.concat([df[col] for col in reason_columns])\n",
    "\n",
    "reason_counts = all_reasons.value_counts()\n",
    "\n",
    "print(reason_counts)"
   ]
  },
  {
   "cell_type": "code",
   "execution_count": 8,
   "id": "e542d59b",
   "metadata": {},
   "outputs": [
    {
     "name": "stdout",
     "output_type": "stream",
     "text": [
      "Based on the data, the most common reasons for investment choices are:\n",
      "- Capital Appreciation: 30 times\n",
      "- Assured Returns: 26 times\n",
      "- Better Returns: 24 times\n",
      "- Risk Free: 19 times\n",
      "- Fixed Returns: 18 times\n",
      "- Fund Diversification: 13 times\n",
      "- Safe Investment: 13 times\n",
      "- Dividend: 8 times\n",
      "- Tax Benefits: 3 times\n",
      "- High Interest Rates: 3 times\n",
      "- Liquidity: 2 times\n",
      "- Tax Incentives: 1 times\n",
      "\n"
     ]
    }
   ],
   "source": [
    "# Summarize \n",
    "summary = \"Based on the data, the most common reasons for investment choices are:\\n\"\n",
    "for reason, count in reason_counts.items():\n",
    "    summary += f\"- {reason}: {count} times\\n\"\n",
    "\n",
    "print(summary)"
   ]
  },
  {
   "cell_type": "markdown",
   "id": "6d0e1a8a",
   "metadata": {},
   "source": [
    "# Level: 3\n",
    "\n",
    "# Task - 6: Savings Objectives\n",
    "\n",
    "Objective: Identify and present main savings objectives\n"
   ]
  },
  {
   "cell_type": "markdown",
   "id": "a6bfe7e8",
   "metadata": {},
   "source": [
    "Visualization of **savings objectives** have been completed in **Power BI**"
   ]
  },
  {
   "cell_type": "code",
   "execution_count": 9,
   "id": "8aa317d5",
   "metadata": {},
   "outputs": [
    {
     "name": "stdout",
     "output_type": "stream",
     "text": [
      "People save money for various reasons, and here are the most common ones:\n",
      "- Retirement Plan: 24 mentions\n",
      "- Health Care: 13 mentions\n",
      "- Education: 3 mentions\n",
      "\n"
     ]
    }
   ],
   "source": [
    "savings_objectives = df['What are your savings objectives?']\n",
    "\n",
    "#frequency of each savings objective\n",
    "objective_counts = savings_objectives.value_counts()\n",
    "\n",
    "#summary of the main savings objectives\n",
    "summary = \"People save money for various reasons, and here are the most common ones:\\n\"\n",
    "for objective, count in objective_counts.items():\n",
    "    summary += f\"- {objective}: {count} mentions\\n\"\n",
    "\n",
    "print(summary)"
   ]
  },
  {
   "cell_type": "code",
   "execution_count": 10,
   "id": "fabb8884",
   "metadata": {},
   "outputs": [
    {
     "data": {
      "text/plain": [
       "gender  What are your savings objectives?\n",
       "Female  Retirement Plan                      10\n",
       "        Health Care                           4\n",
       "        Education                             1\n",
       "Male    Retirement Plan                      14\n",
       "        Health Care                           9\n",
       "        Education                             2\n",
       "Name: What are your savings objectives?, dtype: int64"
      ]
     },
     "execution_count": 10,
     "metadata": {},
     "output_type": "execute_result"
    }
   ],
   "source": [
    "df.groupby('gender')['What are your savings objectives?'].value_counts()"
   ]
  },
  {
   "cell_type": "markdown",
   "id": "48f92b6e",
   "metadata": {},
   "source": [
    "# Level 4: \n",
    "\n",
    "# Task 8: Investment Duration\n",
    "\n",
    "Objective: Calculate the average investment duration."
   ]
  },
  {
   "cell_type": "markdown",
   "id": "da0bb3aa",
   "metadata": {},
   "source": [
    "Visualization and **average** have been completed in Power BI"
   ]
  }
 ],
 "metadata": {
  "kernelspec": {
   "display_name": "Python 3 (ipykernel)",
   "language": "python",
   "name": "python3"
  },
  "language_info": {
   "codemirror_mode": {
    "name": "ipython",
    "version": 3
   },
   "file_extension": ".py",
   "mimetype": "text/x-python",
   "name": "python",
   "nbconvert_exporter": "python",
   "pygments_lexer": "ipython3",
   "version": "3.9.13"
  }
 },
 "nbformat": 4,
 "nbformat_minor": 5
}
